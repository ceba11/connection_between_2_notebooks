{
  "nbformat": 4,
  "nbformat_minor": 0,
  "metadata": {
    "colab": {
      "provenance": []
    },
    "kernelspec": {
      "name": "python3",
      "display_name": "Python 3"
    },
    "language_info": {
      "name": "python"
    }
  },
  "cells": [
    {
      "cell_type": "code",
      "execution_count": null,
      "metadata": {
        "colab": {
          "base_uri": "https://localhost:8080/"
        },
        "id": "GNyTj7zqrmyE",
        "outputId": "c7ef0b0a-e855-4d1a-d2a1-927b89b63c0f"
      },
      "outputs": [
        {
          "output_type": "stream",
          "name": "stdout",
          "text": [
            "Файл загружен успешно\n"
          ]
        }
      ],
      "source": [
        "import requests\n",
        "\n",
        "url = 'https://1a57-34-91-72-5.ngrok-free.app/upload'  # URL от ngrok\n",
        "files = {'file': open('/content/random.txt', 'rb')}\n",
        "\n",
        "r = requests.post(url, files=files)\n",
        "print(r.text)\n"
      ]
    }
  ]
}